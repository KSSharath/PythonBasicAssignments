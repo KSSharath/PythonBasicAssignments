{
 "cells": [
  {
   "cell_type": "markdown",
   "id": "170e249a",
   "metadata": {},
   "source": [
    "### 1."
   ]
  },
  {
   "cell_type": "code",
   "execution_count": 1,
   "id": "fd1d0586",
   "metadata": {},
   "outputs": [],
   "source": [
    "import logging\n",
    "logging.basicConfig(filename = \"error.log\" , level = logging.INFO , format ='%(asctime)s %(levelname)s %(message)s' )"
   ]
  },
  {
   "cell_type": "code",
   "execution_count": 2,
   "id": "31fa0c2a",
   "metadata": {},
   "outputs": [],
   "source": [
    "# Use the below code to create a example file with the required content \n",
    "f= open(\"example.txt\",\"w+\")\n",
    "f.write(\"This is a placement assignment\")\n",
    "f.close()"
   ]
  },
  {
   "cell_type": "code",
   "execution_count": 3,
   "id": "ea3231e6",
   "metadata": {},
   "outputs": [],
   "source": [
    "def replace_content(search_content, replace_content, file_name):\n",
    "    logging.info(\"I am giving the values search_content= %s, replace_content= %s and file_name= %s\" , \n",
    "                 search_content, replace_content, file_name)\n",
    "    try:\n",
    "        with open(file_name,\"r+\") as f: #Opening file in read write mode\n",
    "            File=f.read()\n",
    "            if search_content not in File:\n",
    "                logging.error(search_content + \" is not found in \" + file_name)\n",
    "            else:\n",
    "                File=File.replace(search_content, replace_content)\n",
    "                f.seek(0) # To set the cursor position\n",
    "                f.write(File)\n",
    "                logging.info(\"executed successfully\")\n",
    "                logging.info(search_content + \" is replcaed with \" + replace_content + \" in file \" + file_name)\n",
    "    except Exception as e :\n",
    "            logging.error(\"Errog has happend \")\n",
    "            logging.exception(\"Exception occured \" + str(e))\n",
    "replace_content(\"placement\", \"screening\", \"example.txt\")"
   ]
  },
  {
   "cell_type": "markdown",
   "id": "1381463a",
   "metadata": {},
   "source": [
    "### 2"
   ]
  },
  {
   "cell_type": "markdown",
   "id": "1c088d20",
   "metadata": {},
   "source": [
    "##### Abstract Class:\n",
    "By defining an abstract base class, we can define a common Application Program Interface(API) for a set of subclasses. This capability is especially useful in situations where a third-party is going to provide implementations, such as with plugins, but can also help us when working in a large team or with a large code-base where keeping all classes in our mind is difficult or not possible.\n",
    "\n",
    "By default, Python does not provide abstract classes. Python comes with a module that provides the base for defining Abstract Base classes(ABC) and that module name is ABC. ABC works by decorating methods of the base class as abstract and then registering concrete classes as implementations of the abstract base. A method becomes abstract when decorated with the keyword @abstractmethod. For Example:"
   ]
  },
  {
   "cell_type": "code",
   "execution_count": 4,
   "id": "27419828",
   "metadata": {},
   "outputs": [
    {
     "name": "stdout",
     "output_type": "stream",
     "text": [
      "I have 3 sides\n",
      "I have 4 sides\n",
      "I have 5 sides\n",
      "I have 6 sides\n"
     ]
    }
   ],
   "source": [
    "from abc import ABC, abstractmethod\n",
    "\n",
    "class Polygon(ABC):\n",
    "\n",
    "    @abstractmethod\n",
    "    def no_of_sides(self):\n",
    "        pass\n",
    "\n",
    "class Triangle(Polygon):\n",
    "    def no_of_sides(self):\n",
    "        print(\"I have 3 sides\")\n",
    "\n",
    "class Pentagon(Polygon):\n",
    "    def no_of_sides(self):\n",
    "        print(\"I have 5 sides\")\n",
    "\n",
    "class Hexagon(Polygon):\n",
    "    def no_of_sides(self):\n",
    "        print(\"I have 6 sides\")\n",
    "\n",
    "class Quadrilateral(Polygon):\n",
    "    def no_of_sides(self):\n",
    "        print(\"I have 4 sides\")\n",
    "\n",
    "A = Triangle()\n",
    "A.no_of_sides()\n",
    "\n",
    "B = Quadrilateral()\n",
    "B.no_of_sides()\n",
    "\n",
    "C = Pentagon()\n",
    "C.no_of_sides()\n",
    "\n",
    "D = Hexagon()\n",
    "D.no_of_sides()"
   ]
  },
  {
   "cell_type": "markdown",
   "id": "ef210792",
   "metadata": {},
   "source": [
    "##### Multiple Inheritance:\n",
    "When a class is derived from more than one base class it is called multiple Inheritance. The derived class inherits all the features of the base case.   \n",
    "Example:"
   ]
  },
  {
   "cell_type": "code",
   "execution_count": 5,
   "id": "dfd0c0f8",
   "metadata": {},
   "outputs": [
    {
     "name": "stdout",
     "output_type": "stream",
     "text": [
      "Father Enjoys Driving\n",
      "Mother Enjoys Cooking\n",
      "Child Loves Playing\n"
     ]
    }
   ],
   "source": [
    "class Father():\n",
    "    def Driving(self):\n",
    "        print(\"Father Enjoys Driving\")\n",
    "        \n",
    "class Mother():\n",
    "    def Cooking(self):\n",
    "        print(\"Mother Enjoys Cooking\")\n",
    "        \n",
    "class Child(Father, Mother):\n",
    "    def Playing(self):\n",
    "        print(\"Child Loves Playing\")\n",
    "c = Child()\n",
    "c.Driving()\n",
    "c.Cooking()\n",
    "c.Playing()"
   ]
  },
  {
   "cell_type": "markdown",
   "id": "76c01f5d",
   "metadata": {},
   "source": [
    "#### Decorator:\n",
    "we will use a decorator when we need to change the behavior of a function without modifying the function itself.   \n",
    "Example:"
   ]
  },
  {
   "cell_type": "code",
   "execution_count": 6,
   "id": "af78c8b4",
   "metadata": {},
   "outputs": [],
   "source": [
    "# Creating main function and sub function\n",
    "def main_function(func):\n",
    "    print(\"This is main function\")\n",
    "    def sub_function():\n",
    "        print(\"This is Sub function\")\n",
    "        func()\n",
    "    return sub_function()"
   ]
  },
  {
   "cell_type": "code",
   "execution_count": 7,
   "id": "5ad9690b",
   "metadata": {},
   "outputs": [
    {
     "name": "stdout",
     "output_type": "stream",
     "text": [
      "This is main function\n",
      "This is Sub function\n",
      "This is a modified function\n"
     ]
    }
   ],
   "source": [
    "@main_function\n",
    "def modified_function():\n",
    "    print(\"This is a modified function\")"
   ]
  },
  {
   "cell_type": "code",
   "execution_count": null,
   "id": "6e39df66",
   "metadata": {},
   "outputs": [],
   "source": []
  }
 ],
 "metadata": {
  "kernelspec": {
   "display_name": "Python 3",
   "language": "python",
   "name": "python3"
  },
  "language_info": {
   "codemirror_mode": {
    "name": "ipython",
    "version": 3
   },
   "file_extension": ".py",
   "mimetype": "text/x-python",
   "name": "python",
   "nbconvert_exporter": "python",
   "pygments_lexer": "ipython3",
   "version": "3.8.8"
  }
 },
 "nbformat": 4,
 "nbformat_minor": 5
}
