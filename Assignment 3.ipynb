{
 "cells": [
  {
   "cell_type": "markdown",
   "id": "0b4d8d4a",
   "metadata": {},
   "source": [
    "### 1.\n",
    "Functions reduce the need for duplicate code. This makes programs shorter, easier to read, and easier to update."
   ]
  },
  {
   "cell_type": "markdown",
   "id": "0e64ca4e",
   "metadata": {},
   "source": [
    "### 2.\n",
    "When it is called "
   ]
  },
  {
   "cell_type": "markdown",
   "id": "d9d83d52",
   "metadata": {},
   "source": [
    "### 3. \n",
    "def keyword follwed by the function name with round bracket and colon"
   ]
  },
  {
   "cell_type": "markdown",
   "id": "94435105",
   "metadata": {},
   "source": [
    "### 4.\n",
    "A function is procedure to achieve a particular result while function call is using this function to achive that task."
   ]
  },
  {
   "cell_type": "markdown",
   "id": "41971a6a",
   "metadata": {},
   "source": [
    "### 5.\n",
    "We can have only one global Python scope per program execution. local scopes can be as many as we want"
   ]
  },
  {
   "cell_type": "markdown",
   "id": "1012dc90",
   "metadata": {},
   "source": [
    "### 6.\n",
    "A local variable retains its value until the next time the function is called A local variable becomes undefined after the function call completes"
   ]
  },
  {
   "cell_type": "markdown",
   "id": "48771907",
   "metadata": {},
   "source": [
    "### 7. \n",
    "In general, a function takes arguments (if any), performs some operations, and returns a value (or object). The value that a function returns to the caller is generally known as the function's return value.  \n",
    "Yes, it is possible to have a return value in an expression?"
   ]
  },
  {
   "cell_type": "markdown",
   "id": "dd2c56c0",
   "metadata": {},
   "source": [
    "### 8.\n",
    "None"
   ]
  },
  {
   "cell_type": "markdown",
   "id": "beef39b7",
   "metadata": {},
   "source": [
    "### 9.\n",
    "using the global keyword to declare which variables are global."
   ]
  },
  {
   "cell_type": "markdown",
   "id": "da3bfcf3",
   "metadata": {},
   "source": [
    "### 10.\n",
    "NoneType"
   ]
  },
  {
   "cell_type": "markdown",
   "id": "ef9ba9d8",
   "metadata": {},
   "source": [
    "### 11.\n",
    "imports a module named areallyourpetsnamederic"
   ]
  },
  {
   "cell_type": "markdown",
   "id": "5e3fd8ae",
   "metadata": {},
   "source": [
    "### 12.\n",
    "bacon() will be a function and it can be called using spam.bacon()"
   ]
  },
  {
   "cell_type": "markdown",
   "id": "7382e3dd",
   "metadata": {},
   "source": [
    "### 13.\n",
    "error handling can be used to save the program from crashing"
   ]
  },
  {
   "cell_type": "markdown",
   "id": "df4e6f72",
   "metadata": {},
   "source": [
    "### 14.\n",
    "The try block is used to test a block of code for errors. The except block is used to handle the error.\n"
   ]
  },
  {
   "cell_type": "code",
   "execution_count": null,
   "id": "8a125abc",
   "metadata": {},
   "outputs": [],
   "source": []
  }
 ],
 "metadata": {
  "kernelspec": {
   "display_name": "Python 3",
   "language": "python",
   "name": "python3"
  },
  "language_info": {
   "codemirror_mode": {
    "name": "ipython",
    "version": 3
   },
   "file_extension": ".py",
   "mimetype": "text/x-python",
   "name": "python",
   "nbconvert_exporter": "python",
   "pygments_lexer": "ipython3",
   "version": "3.8.8"
  }
 },
 "nbformat": 4,
 "nbformat_minor": 5
}
