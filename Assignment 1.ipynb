{
 "cells": [
  {
   "cell_type": "markdown",
   "id": "7935fd06",
   "metadata": {},
   "source": [
    "### 1.\n",
    "Values:\n",
    "'hello', -87.8, 6\n",
    "\n",
    "Expressions:\n",
    "*, -, /, +"
   ]
  },
  {
   "cell_type": "markdown",
   "id": "499ffde0",
   "metadata": {},
   "source": [
    "### 2. \n",
    "\n",
    "String is a data type. it is a collection of one or more characters put in a single or double quote \n",
    "\n",
    "Variable is name under which we store a data. Variable can contain alpha numeric value and underscore( _ ). It can start with character or undescore but can not start with number"
   ]
  },
  {
   "cell_type": "markdown",
   "id": "6651151d",
   "metadata": {},
   "source": [
    "### 3\n",
    "Integer : Contains positive or negative whole number \n",
    "Ex: 5, -28\n",
    "\n",
    "Float: Contains real number\n",
    "Ex: 4.38, -18.35\n",
    "\n",
    "string: collection of one or more characters put in a single or double quote\n",
    "Ex: \"Sharath\", '10'"
   ]
  },
  {
   "cell_type": "markdown",
   "id": "9399a548",
   "metadata": {},
   "source": [
    "### 4\n",
    "\n",
    "An expression is a combination of operators and operands that is interpreted to produce some other value.  An expression is evaluated as per the precedence of its operators."
   ]
  },
  {
   "cell_type": "markdown",
   "id": "3ca03e16",
   "metadata": {},
   "source": [
    "### 5\n",
    "Expression will return new value where as Statement will not return anything "
   ]
  },
  {
   "cell_type": "markdown",
   "id": "70e64592",
   "metadata": {},
   "source": [
    "### 6\n",
    "bacon will contain 22 only because we are not changing its value. if we use bacon+=1 then it will get change to 23"
   ]
  },
  {
   "cell_type": "markdown",
   "id": "967c7d9e",
   "metadata": {},
   "source": [
    "### 7\n",
    "value of both terms will be 'spamspamspam'"
   ]
  },
  {
   "cell_type": "markdown",
   "id": "c6c4453d",
   "metadata": {},
   "source": [
    "### 8\n",
    "Because variable name can start with characters but can not start with numbers"
   ]
  },
  {
   "cell_type": "markdown",
   "id": "49cdd711",
   "metadata": {},
   "source": [
    "### 9\n",
    "int(value), float(value), str(value)"
   ]
  },
  {
   "cell_type": "markdown",
   "id": "4742464c",
   "metadata": {},
   "source": [
    "### 10 \n",
    "'I have eaten' + 99 +'burriots' will cause error because we can not concatenate integer with sting we can fix this by making 99 as string using single or double quote. i.e., 'I have eaten' + '99' +'burriots'"
   ]
  },
  {
   "cell_type": "code",
   "execution_count": null,
   "id": "82468402",
   "metadata": {},
   "outputs": [],
   "source": []
  }
 ],
 "metadata": {
  "kernelspec": {
   "display_name": "Python 3",
   "language": "python",
   "name": "python3"
  },
  "language_info": {
   "codemirror_mode": {
    "name": "ipython",
    "version": 3
   },
   "file_extension": ".py",
   "mimetype": "text/x-python",
   "name": "python",
   "nbconvert_exporter": "python",
   "pygments_lexer": "ipython3",
   "version": "3.8.8"
  }
 },
 "nbformat": 4,
 "nbformat_minor": 5
}
