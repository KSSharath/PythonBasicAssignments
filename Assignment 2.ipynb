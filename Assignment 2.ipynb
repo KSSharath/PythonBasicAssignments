{
 "cells": [
  {
   "cell_type": "markdown",
   "id": "7fa200a2",
   "metadata": {},
   "source": [
    "### 1.\n",
    "#True and False are the two values of the boolean data type"
   ]
  },
  {
   "cell_type": "code",
   "execution_count": 2,
   "id": "b5c8a879",
   "metadata": {},
   "outputs": [
    {
     "data": {
      "text/plain": [
       "False"
      ]
     },
     "execution_count": 2,
     "metadata": {},
     "output_type": "execute_result"
    }
   ],
   "source": [
    "# It is written as:\n",
    "True\n",
    "False"
   ]
  },
  {
   "cell_type": "markdown",
   "id": "c18669e9",
   "metadata": {},
   "source": [
    "### 2. \n",
    "and , or , and not are 3 boolean operator"
   ]
  },
  {
   "cell_type": "markdown",
   "id": "ab7ffe7e",
   "metadata": {},
   "source": [
    "### 3.\n",
    "###### and:"
   ]
  },
  {
   "cell_type": "raw",
   "id": "af55a624",
   "metadata": {},
   "source": [
    " A       B    A and B\n",
    "True   True    True\n",
    "False  True    False\n",
    "True   False   False\n",
    "False  False   False"
   ]
  },
  {
   "cell_type": "markdown",
   "id": "f0fdbdcf",
   "metadata": {},
   "source": [
    "###### or:"
   ]
  },
  {
   "cell_type": "raw",
   "id": "7bbca989",
   "metadata": {},
   "source": [
    " A\t     B\t   A or B\n",
    "True\tTrue    True\n",
    "False\tTrue\tTrue\n",
    "True\tFalse\tTrue\n",
    "False\tFalse\tFalse"
   ]
  },
  {
   "cell_type": "markdown",
   "id": "9fe2575e",
   "metadata": {},
   "source": [
    "###### not:"
   ]
  },
  {
   "cell_type": "raw",
   "id": "5e1e9b73",
   "metadata": {},
   "source": [
    " A\t    not A\n",
    "True\tFalse\n",
    "False\tTrue"
   ]
  },
  {
   "cell_type": "markdown",
   "id": "e243afef",
   "metadata": {},
   "source": [
    "### 4.\n",
    "(5>4) and (3 == 5) --> False"
   ]
  },
  {
   "cell_type": "markdown",
   "id": "6853959c",
   "metadata": {},
   "source": [
    "not(5>4) --> False"
   ]
  },
  {
   "cell_type": "markdown",
   "id": "eb582a7d",
   "metadata": {},
   "source": [
    "(5>4) or (3 == 5) --> True"
   ]
  },
  {
   "cell_type": "markdown",
   "id": "32e6cf7d",
   "metadata": {},
   "source": [
    "not ((5>4) or (3 == 5)) --> False"
   ]
  },
  {
   "cell_type": "markdown",
   "id": "aa784aa0",
   "metadata": {},
   "source": [
    "(True and True) and (True == False) --> False"
   ]
  },
  {
   "cell_type": "markdown",
   "id": "d732e56f",
   "metadata": {},
   "source": [
    "(not False) or (not True) --> True"
   ]
  },
  {
   "cell_type": "markdown",
   "id": "4561d4bf",
   "metadata": {},
   "source": [
    "### 5.\n",
    "###### Equal to (==)\n",
    "###### Not equal to 1(!=)\n",
    "###### Greater than (>)\n",
    "###### Less than (<)\n",
    "###### Greater than or eaual to (>=)\n",
    "###### Less than or eaual to (<=)"
   ]
  },
  {
   "cell_type": "markdown",
   "id": "a1a32772",
   "metadata": {},
   "source": [
    "### 6.\n",
    "Equal to (==) will have 2 equal sign where assignment operator(=) will have only one equal sign.\n",
    "###### Example:\n",
    "While comparing 2 values we will use equal to i.e, A==B.  \n",
    "While assigning a value to a variable we will use assignement operator i.e, A=5, Name=\"Sharath\""
   ]
  },
  {
   "cell_type": "markdown",
   "id": "defa162b",
   "metadata": {},
   "source": [
    "### 7.\n",
    "###### Block 1:\n",
    "print('eggs')\n",
    "\n",
    "###### Block 2:\n",
    "print('bacon')\n",
    "\n",
    "###### Block 3:\n",
    "print('ham')  \n",
    "print('spam')  \n",
    "print('spam')"
   ]
  },
  {
   "cell_type": "code",
   "execution_count": 7,
   "id": "4faa1f11",
   "metadata": {},
   "outputs": [
    {
     "name": "stdout",
     "output_type": "stream",
     "text": [
      "3\n",
      "Greetings!\n"
     ]
    }
   ],
   "source": [
    "# 8.\n",
    "spam=int(input())\n",
    "if (spam==1):\n",
    "    print('Hello')\n",
    "elif (spam==2):\n",
    "    print('Howdy')\n",
    "else:\n",
    "    print('Greetings!')"
   ]
  },
  {
   "cell_type": "markdown",
   "id": "7915e073",
   "metadata": {},
   "source": [
    "### 9.\n",
    "CTRL + C"
   ]
  },
  {
   "cell_type": "markdown",
   "id": "6eefd0b0",
   "metadata": {},
   "source": [
    "### 10.\n",
    "When break keyword comes, it terminates the execution of the current loop and passes the control over the next loop or main body, whereas when continue keyword is encountered, it skips the current iteration and executes the very next iteration in the loop."
   ]
  },
  {
   "cell_type": "markdown",
   "id": "a28f59c9",
   "metadata": {},
   "source": [
    "### 11.\n",
    "There is no difference. range() function accepts 3 parameters start, stop, step. Start and step are optional and it will take 0 and 1 respectively as default value. Hence there is no difference between them."
   ]
  },
  {
   "cell_type": "markdown",
   "id": "38349960",
   "metadata": {},
   "source": [
    "### 12"
   ]
  },
  {
   "cell_type": "code",
   "execution_count": 3,
   "id": "402583a2",
   "metadata": {},
   "outputs": [
    {
     "name": "stdout",
     "output_type": "stream",
     "text": [
      "1\n",
      "2\n",
      "3\n",
      "4\n",
      "5\n",
      "6\n",
      "7\n",
      "8\n",
      "9\n",
      "10\n"
     ]
    }
   ],
   "source": [
    "for i in range(1,11):\n",
    "    print(i)"
   ]
  },
  {
   "cell_type": "code",
   "execution_count": 4,
   "id": "fea6e31e",
   "metadata": {},
   "outputs": [
    {
     "name": "stdout",
     "output_type": "stream",
     "text": [
      "1\n",
      "2\n",
      "3\n",
      "4\n",
      "5\n",
      "6\n",
      "7\n",
      "8\n",
      "9\n",
      "10\n"
     ]
    }
   ],
   "source": [
    "x=0\n",
    "while x<10:\n",
    "    print(x+1)\n",
    "    x+=1"
   ]
  },
  {
   "cell_type": "markdown",
   "id": "f2f58e30",
   "metadata": {},
   "source": [
    "### 13.\n",
    "spam.bacon()"
   ]
  },
  {
   "cell_type": "code",
   "execution_count": null,
   "id": "78cd6642",
   "metadata": {},
   "outputs": [],
   "source": []
  }
 ],
 "metadata": {
  "kernelspec": {
   "display_name": "Python 3",
   "language": "python",
   "name": "python3"
  },
  "language_info": {
   "codemirror_mode": {
    "name": "ipython",
    "version": 3
   },
   "file_extension": ".py",
   "mimetype": "text/x-python",
   "name": "python",
   "nbconvert_exporter": "python",
   "pygments_lexer": "ipython3",
   "version": "3.8.8"
  }
 },
 "nbformat": 4,
 "nbformat_minor": 5
}
